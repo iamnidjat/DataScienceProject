{
 "cells": [
  {
   "cell_type": "code",
   "execution_count": 13,
   "id": "0397b117-17b8-461b-871e-11d7a669dd60",
   "metadata": {},
   "outputs": [],
   "source": [
    "import pandas as pd\n",
    "\n",
    "def encode_categorical_values(dataframes):\n",
    "    student_info = dataframes['student_info']\n",
    "    student_vle = dataframes['student_vle']\n",
    "    student_reg = dataframes['student_reg']\n",
    "    student_assessment = dataframes['student_assessment']\n",
    "    assessments = dataframes['assessments']\n",
    "    courses = dataframes['courses']\n",
    "    vle = dataframes['vle']\n",
    "\n",
    "    edu_map = {\n",
    "        'No Formal quals': 0,\n",
    "        'Lower Than A Level': 1,\n",
    "        'A Level or Equivalent': 2,\n",
    "        'HE Qualification': 3,\n",
    "        'Post Graduate Qualification': 4\n",
    "    }\n",
    "    student_info['highest_education'] = student_info['highest_education'].map(edu_map)\n",
    "    \n",
    "    age_map = {\n",
    "        '0-35': 0,\n",
    "        '35-55': 1,\n",
    "        '55<=': 2\n",
    "    }\n",
    "    student_info['age_band'] = student_info['age_band'].map(age_map)\n",
    "    \n",
    "    imd_map = {\n",
    "        '0-10%': 0,\n",
    "        '10-20%': 1,\n",
    "        '20-30%': 2,\n",
    "        '30-40%': 3,\n",
    "        '40-50%': 4,\n",
    "        '50-60%': 5,\n",
    "        '60-70%': 6,\n",
    "        '70-80%': 7,\n",
    "        '80-90%': 8,\n",
    "        '90-100%': 9,\n",
    "        'Missing': -1,\n",
    "    }\n",
    "    student_info['imd_band'] = student_info['imd_band'].map(imd_map) \n",
    "      \n",
    "    student_info_encoded = pd.get_dummies(student_info, columns=['gender', 'region', 'disability'], drop_first=True)\n",
    "    assessments_encoded = pd.get_dummies(assessments, columns=['assessment_type'], drop_first=True)\n",
    "    vle_encoded = pd.get_dummies(vle, columns=['activity_type'], drop_first=True)\n",
    "\n",
    "\n",
    "    return {\n",
    "        \"student_info\": student_info_encoded,\n",
    "        \"student_vle\": student_vle,\n",
    "        \"student_reg\": student_reg,\n",
    "        \"student_assessment\": student_assessment,\n",
    "        \"assessments\": assessments_encoded,\n",
    "        \"courses\": courses,\n",
    "        \"vle\": vle_encoded\n",
    "    }"
   ]
  },
  {
   "cell_type": "code",
   "execution_count": null,
   "id": "e68a30c8-9a68-4ed6-81c1-88b03a1211ce",
   "metadata": {},
   "outputs": [],
   "source": []
  }
 ],
 "metadata": {
  "kernelspec": {
   "display_name": "Python (text_analytics)",
   "language": "python",
   "name": "text_analytics"
  },
  "language_info": {
   "codemirror_mode": {
    "name": "ipython",
    "version": 3
   },
   "file_extension": ".py",
   "mimetype": "text/x-python",
   "name": "python",
   "nbconvert_exporter": "python",
   "pygments_lexer": "ipython3",
   "version": "3.11.11"
  }
 },
 "nbformat": 4,
 "nbformat_minor": 5
}
