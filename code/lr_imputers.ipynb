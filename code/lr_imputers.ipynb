{
 "cells": [
  {
   "cell_type": "code",
   "execution_count": 3,
   "id": "267ee087-2731-43df-bc34-b77dd1987132",
   "metadata": {},
   "outputs": [],
   "source": [
    "import numpy as np \n",
    "import pandas as pd\n",
    "\n",
    "def impute_other_fields(dataframes: dict):\n",
    "    if 'vle' in dataframes:\n",
    "        dataframes['vle'] = dataframes['vle'].drop(columns=[col for col in ['week_from', 'week_to'] if col in dataframes['vle']])\n",
    "    \n",
    "    if 'assessments' in dataframes:\n",
    "        dataframes['assessments'] = dataframes['assessments'].drop(columns=[col for col in ['date'] if col in dataframes['assessments']])\n",
    "    \n",
    "    if 'student_reg' in dataframes:\n",
    "        df_student_registration = dataframes['student_reg']\n",
    "        if 'date_registration' in df_student_registration:\n",
    "            df_student_registration['date_registration'] = df_student_registration['date_registration'].fillna(\n",
    "                df_student_registration['date_registration'].median()\n",
    "            )\n",
    "        if 'date_unregistration' in df_student_registration:\n",
    "            df_student_registration['date_unregistration'] = df_student_registration['date_unregistration'].fillna(999)\n",
    "    \n",
    "    return dataframes\n",
    "\n",
    "def impute_with_constant(dataframes: dict):\n",
    "    if 'student_info' in dataframes:\n",
    "         df_student_info = dataframes['student_info']\n",
    "         df_student_info['imd_band'] = (\n",
    "    df_student_info['imd_band']\n",
    "    .replace([np.nan, None, 'nan', 'None', ''], \"Missing\")\n",
    "    .astype(str))\n",
    "    \n",
    "    if 'student_assessment' in dataframes:\n",
    "         df_student_assessment = dataframes['student_assessment']\n",
    "         df_student_assessment['score'] = df_student_assessment['score'].fillna(-1)\n",
    "    \n",
    "    return impute_other_fields(dataframes)\n",
    "\n",
    "def impute_with_median(dataframes: dict):\n",
    "    if 'student_info' in dataframes:\n",
    "        df_student_info = dataframes['student_info']\n",
    "        if 'imd_band' in df_student_info:\n",
    "            most_freq = df_student_info['imd_band'].mode()[0]\n",
    "            df_student_info['imd_band'] = df_student_info['imd_band'].fillna(most_freq)\n",
    "    \n",
    "    if 'student_assessment' in dataframes:\n",
    "        df_student_assessment = dataframes['student_assessment']\n",
    "        if 'score' in df_student_assessment:\n",
    "            median_score = df_student_assessment['score'].median()\n",
    "            df_student_assessment['score'] = df_student_assessment['score'].fillna(median_score)\n",
    "    \n",
    "    return impute_other_fields(dataframes)\n"
   ]
  },
  {
   "cell_type": "code",
   "execution_count": null,
   "id": "f77fa86b-9e65-4aae-a863-303279f747b8",
   "metadata": {},
   "outputs": [],
   "source": []
  },
  {
   "cell_type": "code",
   "execution_count": null,
   "id": "32a14842-0a33-45c1-a462-0a018dd3847d",
   "metadata": {},
   "outputs": [],
   "source": []
  }
 ],
 "metadata": {
  "kernelspec": {
   "display_name": "Python (text_analytics)",
   "language": "python",
   "name": "text_analytics"
  },
  "language_info": {
   "codemirror_mode": {
    "name": "ipython",
    "version": 3
   },
   "file_extension": ".py",
   "mimetype": "text/x-python",
   "name": "python",
   "nbconvert_exporter": "python",
   "pygments_lexer": "ipython3",
   "version": "3.11.11"
  }
 },
 "nbformat": 4,
 "nbformat_minor": 5
}
