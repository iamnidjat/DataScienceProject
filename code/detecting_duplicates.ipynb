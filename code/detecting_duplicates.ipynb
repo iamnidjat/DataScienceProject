{
 "cells": [
  {
   "cell_type": "code",
   "execution_count": 18,
   "id": "2db3063e-72d7-4178-a22b-d7a6088155dc",
   "metadata": {},
   "outputs": [
    {
     "name": "stdout",
     "output_type": "stream",
     "text": [
      "Duplicates in train set:\n",
      "\n",
      "Detected duplicates in student_info =>  0\n",
      "Detected duplicates in student_vle =>  0\n",
      "Detected duplicates in student_reg =>  0\n",
      "Detected duplicates in student_assessment =>  0\n",
      "rows in student_info =>  7256\n",
      "rows in student_vle =>  2089547\n",
      "rows in student_reg =>  7256\n",
      "rows in student_assessment =>  41177 \n",
      "\n",
      "Duplicates in val set:\n",
      "\n",
      "Detected duplicates in student_info =>  0\n",
      "Detected duplicates in student_vle =>  0\n",
      "Detected duplicates in student_reg =>  0\n",
      "Detected duplicates in student_assessment =>  0\n",
      "rows in student_info =>  2416\n",
      "rows in student_vle =>  719804\n",
      "rows in student_reg =>  2416\n",
      "rows in student_assessment =>  13755 \n",
      "\n",
      "Duplicates in test set:\n",
      "\n",
      "Detected duplicates in student_info =>  0\n",
      "Detected duplicates in student_vle =>  0\n",
      "Detected duplicates in student_reg =>  0\n",
      "Detected duplicates in student_assessment =>  0\n",
      "rows in student_info =>  22921\n",
      "rows in student_vle =>  5649969\n",
      "rows in student_reg =>  22921\n",
      "rows in student_assessment =>  118980 \n",
      "\n"
     ]
    }
   ],
   "source": [
    "import pandas as pd\n",
    "import numpy as np\n",
    "import os\n",
    "from pathlib import Path\n",
    "\n",
    "# This ensures it saves to Desktop/newData regardless of OS\n",
    "OUTPUT_DIR = Path.home() / \"Desktop\" / \"newData\"\n",
    "\n",
    "def detect_duplicates(set):\n",
    "    student_info = pd.read_csv(os.path.join(OUTPUT_DIR, f\"{set}/student_info.csv\"))\n",
    "    student_vle = pd.read_csv(os.path.join(OUTPUT_DIR, f\"{set}/student_vle.csv\"))\n",
    "    student_reg = pd.read_csv(os.path.join(OUTPUT_DIR, f\"{set}/student_registration.csv\"))\n",
    "    student_assessment = pd.read_csv(os.path.join(OUTPUT_DIR, f\"{set}/student_assessment.csv\"))\n",
    "\n",
    "    print(f\"Duplicates in {set} set:\\n\")\n",
    "    print(\"Detected duplicates in student_info => \", student_info.duplicated().sum())\n",
    "    print(\"Detected duplicates in student_vle => \", student_vle.duplicated().sum())\n",
    "    print(\"Detected duplicates in student_reg => \", student_reg.duplicated().sum())\n",
    "    print(\"Detected duplicates in student_assessment => \", student_assessment.duplicated().sum())\n",
    "    \n",
    "    print(\"rows in student_info => \", student_info.shape[0]) # shape => (num_rows, num_columns)\n",
    "    print(\"rows in student_vle => \", student_vle.shape[0])\n",
    "    print(\"rows in student_reg => \", student_reg.shape[0])\n",
    "    print(\"rows in student_assessment => \", student_assessment.shape[0], \"\\n\")\n",
    "    \n",
    "detect_duplicates(\"train\")\n",
    "detect_duplicates(\"val\")\n",
    "detect_duplicates(\"test\")"
   ]
  },
  {
   "cell_type": "code",
   "execution_count": null,
   "id": "ccd231eb-081c-44b3-b461-f843f81e6642",
   "metadata": {},
   "outputs": [],
   "source": []
  }
 ],
 "metadata": {
  "kernelspec": {
   "display_name": "Python (text_analytics)",
   "language": "python",
   "name": "text_analytics"
  },
  "language_info": {
   "codemirror_mode": {
    "name": "ipython",
    "version": 3
   },
   "file_extension": ".py",
   "mimetype": "text/x-python",
   "name": "python",
   "nbconvert_exporter": "python",
   "pygments_lexer": "ipython3",
   "version": "3.11.11"
  }
 },
 "nbformat": 4,
 "nbformat_minor": 5
}
