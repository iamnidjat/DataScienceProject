{
 "cells": [
  {
   "cell_type": "code",
   "execution_count": 10,
   "id": "62a8dbff-cfed-4bdf-93f0-4a0e462b1635",
   "metadata": {},
   "outputs": [
    {
     "name": "stdout",
     "output_type": "stream",
     "text": [
      "student_info =>  code_module             object\n",
      "code_presentation       object\n",
      "id_student               int64\n",
      "gender                  object\n",
      "region                  object\n",
      "highest_education       object\n",
      "imd_band                object\n",
      "age_band                object\n",
      "num_of_prev_attempts     int64\n",
      "studied_credits          int64\n",
      "disability              object\n",
      "final_result            object\n",
      "dtype: object\n",
      "student_vle =>  code_module          object\n",
      "code_presentation    object\n",
      "id_student            int64\n",
      "id_site               int64\n",
      "date                  int64\n",
      "sum_click             int64\n",
      "dtype: object\n",
      "student_reg =>  code_module             object\n",
      "code_presentation       object\n",
      "id_student               int64\n",
      "date_registration      float64\n",
      "date_unregistration    float64\n",
      "dtype: object\n",
      "assessments =>  code_module           object\n",
      "code_presentation     object\n",
      "id_assessment          int64\n",
      "assessment_type       object\n",
      "date                 float64\n",
      "weight               float64\n",
      "dtype: object\n",
      "courses =>  code_module                   object\n",
      "code_presentation             object\n",
      "module_presentation_length     int64\n",
      "dtype: object\n",
      "vle =>  id_site                int64\n",
      "code_module           object\n",
      "code_presentation     object\n",
      "activity_type         object\n",
      "week_from            float64\n",
      "week_to              float64\n",
      "dtype: object\n",
      "student_assessment =>  id_assessment       int64\n",
      "id_student          int64\n",
      "date_submitted      int64\n",
      "is_banked           int64\n",
      "score             float64\n",
      "dtype: object\n"
     ]
    }
   ],
   "source": [
    "import pandas as pd\n",
    "import seaborn as sns\n",
    "import matplotlib.pyplot as plt\n",
    "\n",
    "student_info = pd.read_csv(\"C:/Users/User/Downloads/anonymisedData/studentInfo.csv\")\n",
    "student_vle = pd.read_csv(\"C:/Users/User/Downloads/anonymisedData/studentVle.csv\")\n",
    "student_reg = pd.read_csv(\"C:/Users/User/Downloads/anonymisedData/studentRegistration.csv\")\n",
    "assessments = pd.read_csv(\"C:/Users/User/Downloads/anonymisedData/assessments.csv\")\n",
    "courses = pd.read_csv(\"C:/Users/User/Downloads/anonymisedData/courses.csv\")\n",
    "vle = pd.read_csv(\"C:/Users/User/Downloads/anonymisedData/vle.csv\")\n",
    "student_assessment = pd.read_csv(\"C:/Users/User/Downloads/anonymisedData/studentAssessment.csv\")\n",
    "\n",
    "print(\"student_info => \", student_info.dtypes)\n",
    "print(\"student_vle => \", student_vle.dtypes)\n",
    "print(\"student_reg => \", student_reg.dtypes)\n",
    "print(\"assessments => \", assessments.dtypes)\n",
    "print(\"courses => \", courses.dtypes)\n",
    "print(\"vle => \", vle.dtypes)\n",
    "print(\"student_assessment => \", student_assessment.dtypes)\n"
   ]
  },
  {
   "cell_type": "code",
   "execution_count": null,
   "id": "d01fd4d6-cb01-4998-8985-9732239ece9c",
   "metadata": {},
   "outputs": [],
   "source": []
  }
 ],
 "metadata": {
  "kernelspec": {
   "display_name": "Python (text_analytics)",
   "language": "python",
   "name": "text_analytics"
  },
  "language_info": {
   "codemirror_mode": {
    "name": "ipython",
    "version": 3
   },
   "file_extension": ".py",
   "mimetype": "text/x-python",
   "name": "python",
   "nbconvert_exporter": "python",
   "pygments_lexer": "ipython3",
   "version": "3.11.11"
  }
 },
 "nbformat": 4,
 "nbformat_minor": 5
}
